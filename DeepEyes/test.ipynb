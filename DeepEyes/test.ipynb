{
 "cells": [
  {
   "cell_type": "code",
   "execution_count": 10,
   "metadata": {},
   "outputs": [],
   "source": [
    "\n",
    "datap=\"/volume/pt-train/users/txie/misc/Data/M3/SLAKE/slake_converted.parquet\"\n",
    "#read parquet file\n",
    "import pandas as pd\n",
    "df = pd.read_parquet(datap)\n"
   ]
  },
  {
   "cell_type": "code",
   "execution_count": 11,
   "metadata": {},
   "outputs": [
    {
     "data": {
      "text/plain": [
       "{'answer': 'Irregular',\n",
       " 'index': '1001',\n",
       " 'question': 'What is the shape of the kidney in the picture?',\n",
       " 'split': 'train'}"
      ]
     },
     "execution_count": 11,
     "metadata": {},
     "output_type": "execute_result"
    }
   ],
   "source": [
    "df.iloc[1001]['extra_info']"
   ]
  },
  {
   "cell_type": "code",
   "execution_count": 3,
   "metadata": {},
   "outputs": [],
   "source": [
    "\n",
    "datap=\"/volume/pt-train/users/txie/misc/Data/DeepEyes-Datasets-47k/data_0.1.2_visual_toolbox_v2.parquet\"\n",
    "#read parquet file\n",
    "import pandas as pd\n",
    "df2 = pd.read_parquet(datap)\n"
   ]
  },
  {
   "cell_type": "code",
   "execution_count": 9,
   "metadata": {},
   "outputs": [
    {
     "data": {
      "text/plain": [
       "{'answer': 'No, the mouse is not on the right side of the cell phone.',\n",
       " 'index': '1000',\n",
       " 'question': 'Is the mouse on the right side of the cell phone?',\n",
       " 'split': 'train'}"
      ]
     },
     "execution_count": 9,
     "metadata": {},
     "output_type": "execute_result"
    }
   ],
   "source": [
    "df2.iloc[1000]['extra_info']"
   ]
  },
  {
   "cell_type": "code",
   "execution_count": 21,
   "metadata": {},
   "outputs": [
    {
     "data": {
      "text/plain": [
       "{'answer': 'No, the mouse is not on the right side of the cell phone.',\n",
       " 'index': '1000',\n",
       " 'question': 'Is the mouse on the right side of the cell phone?',\n",
       " 'split': 'train'}"
      ]
     },
     "execution_count": 21,
     "metadata": {},
     "output_type": "execute_result"
    }
   ],
   "source": [
    "df.iloc[1000]['extra_info']"
   ]
  },
  {
   "cell_type": "code",
   "execution_count": 14,
   "metadata": {},
   "outputs": [
    {
     "data": {
      "text/plain": [
       "numpy.ndarray"
      ]
     },
     "execution_count": 14,
     "metadata": {},
     "output_type": "execute_result"
    }
   ],
   "source": [
    "type(p)"
   ]
  }
 ],
 "metadata": {
  "language_info": {
   "name": "python"
  }
 },
 "nbformat": 4,
 "nbformat_minor": 2
}
